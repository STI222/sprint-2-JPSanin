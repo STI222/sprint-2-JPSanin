{
  "nbformat": 4,
  "nbformat_minor": 0,
  "metadata": {
    "colab": {
      "provenance": []
    },
    "kernelspec": {
      "name": "python3",
      "display_name": "Python 3"
    },
    "language_info": {
      "name": "python"
    },
    "widgets": {
      "application/vnd.jupyter.widget-state+json": {
        "338ba50f36354a94b7249775f2173579": {
          "model_module": "@jupyter-widgets/controls",
          "model_name": "DropdownModel",
          "model_module_version": "1.5.0",
          "state": {
            "_dom_classes": [],
            "_model_module": "@jupyter-widgets/controls",
            "_model_module_version": "1.5.0",
            "_model_name": "DropdownModel",
            "_options_labels": [
              "Eshan Ortiz",
              "Shelly Hutchinson",
              "Linda Wagstaff",
              "Mina Santos",
              "Saira Compton",
              "Kendal Rodriguez",
              "Calum Kumar",
              "Claire Blevins",
              "Huzaifa Mcleod",
              "Courtnie Dodd",
              "Amisha Cochran",
              "Ellesha Yu",
              "Iyla Stamp",
              "Giulia Wilkinson",
              "Anas Miles",
              "Jaime Beech",
              "Rosie Mccann",
              "Edith Rivas",
              "Jac Mcguire",
              "Drew Baker"
            ],
            "_view_count": null,
            "_view_module": "@jupyter-widgets/controls",
            "_view_module_version": "1.5.0",
            "_view_name": "DropdownView",
            "description": "",
            "description_tooltip": null,
            "disabled": false,
            "index": 0,
            "layout": "IPY_MODEL_e29a8c66947645f6b78039b3200f997a",
            "style": "IPY_MODEL_356d14f5d5974a92becc2113e6377241"
          }
        },
        "e29a8c66947645f6b78039b3200f997a": {
          "model_module": "@jupyter-widgets/base",
          "model_name": "LayoutModel",
          "model_module_version": "1.2.0",
          "state": {
            "_model_module": "@jupyter-widgets/base",
            "_model_module_version": "1.2.0",
            "_model_name": "LayoutModel",
            "_view_count": null,
            "_view_module": "@jupyter-widgets/base",
            "_view_module_version": "1.2.0",
            "_view_name": "LayoutView",
            "align_content": null,
            "align_items": null,
            "align_self": null,
            "border": null,
            "bottom": null,
            "display": null,
            "flex": null,
            "flex_flow": null,
            "grid_area": null,
            "grid_auto_columns": null,
            "grid_auto_flow": null,
            "grid_auto_rows": null,
            "grid_column": null,
            "grid_gap": null,
            "grid_row": null,
            "grid_template_areas": null,
            "grid_template_columns": null,
            "grid_template_rows": null,
            "height": null,
            "justify_content": null,
            "justify_items": null,
            "left": null,
            "margin": null,
            "max_height": null,
            "max_width": null,
            "min_height": null,
            "min_width": null,
            "object_fit": null,
            "object_position": null,
            "order": null,
            "overflow": null,
            "overflow_x": null,
            "overflow_y": null,
            "padding": null,
            "right": null,
            "top": null,
            "visibility": null,
            "width": null
          }
        },
        "356d14f5d5974a92becc2113e6377241": {
          "model_module": "@jupyter-widgets/controls",
          "model_name": "DescriptionStyleModel",
          "model_module_version": "1.5.0",
          "state": {
            "_model_module": "@jupyter-widgets/controls",
            "_model_module_version": "1.5.0",
            "_model_name": "DescriptionStyleModel",
            "_view_count": null,
            "_view_module": "@jupyter-widgets/base",
            "_view_module_version": "1.2.0",
            "_view_name": "StyleView",
            "description_width": ""
          }
        },
        "9406b2ace5314d108286031328bc2028": {
          "model_module": "@jupyter-widgets/controls",
          "model_name": "DropdownModel",
          "model_module_version": "1.5.0",
          "state": {
            "_dom_classes": [],
            "_model_module": "@jupyter-widgets/controls",
            "_model_module_version": "1.5.0",
            "_model_name": "DropdownModel",
            "_options_labels": [
              "Eshan Ortiz",
              "Shelly Hutchinson",
              "Linda Wagstaff",
              "Mina Santos",
              "Saira Compton",
              "Kendal Rodriguez",
              "Calum Kumar",
              "Claire Blevins",
              "Huzaifa Mcleod",
              "Courtnie Dodd",
              "Amisha Cochran",
              "Ellesha Yu",
              "Iyla Stamp",
              "Giulia Wilkinson",
              "Anas Miles",
              "Jaime Beech",
              "Rosie Mccann",
              "Edith Rivas",
              "Jac Mcguire",
              "Drew Baker"
            ],
            "_view_count": null,
            "_view_module": "@jupyter-widgets/controls",
            "_view_module_version": "1.5.0",
            "_view_name": "DropdownView",
            "description": "",
            "description_tooltip": null,
            "disabled": false,
            "index": 1,
            "layout": "IPY_MODEL_47959aad086f444eac0791c3616f69c0",
            "style": "IPY_MODEL_38bf58be65c04a8a83146de7061f280f"
          }
        },
        "47959aad086f444eac0791c3616f69c0": {
          "model_module": "@jupyter-widgets/base",
          "model_name": "LayoutModel",
          "model_module_version": "1.2.0",
          "state": {
            "_model_module": "@jupyter-widgets/base",
            "_model_module_version": "1.2.0",
            "_model_name": "LayoutModel",
            "_view_count": null,
            "_view_module": "@jupyter-widgets/base",
            "_view_module_version": "1.2.0",
            "_view_name": "LayoutView",
            "align_content": null,
            "align_items": null,
            "align_self": null,
            "border": null,
            "bottom": null,
            "display": null,
            "flex": null,
            "flex_flow": null,
            "grid_area": null,
            "grid_auto_columns": null,
            "grid_auto_flow": null,
            "grid_auto_rows": null,
            "grid_column": null,
            "grid_gap": null,
            "grid_row": null,
            "grid_template_areas": null,
            "grid_template_columns": null,
            "grid_template_rows": null,
            "height": null,
            "justify_content": null,
            "justify_items": null,
            "left": null,
            "margin": null,
            "max_height": null,
            "max_width": null,
            "min_height": null,
            "min_width": null,
            "object_fit": null,
            "object_position": null,
            "order": null,
            "overflow": null,
            "overflow_x": null,
            "overflow_y": null,
            "padding": null,
            "right": null,
            "top": null,
            "visibility": null,
            "width": null
          }
        },
        "38bf58be65c04a8a83146de7061f280f": {
          "model_module": "@jupyter-widgets/controls",
          "model_name": "DescriptionStyleModel",
          "model_module_version": "1.5.0",
          "state": {
            "_model_module": "@jupyter-widgets/controls",
            "_model_module_version": "1.5.0",
            "_model_name": "DescriptionStyleModel",
            "_view_count": null,
            "_view_module": "@jupyter-widgets/base",
            "_view_module_version": "1.2.0",
            "_view_name": "StyleView",
            "description_width": ""
          }
        },
        "6a89d449b9ce47cc86b4a6741291cbd3": {
          "model_module": "@jupyter-widgets/controls",
          "model_name": "ButtonModel",
          "model_module_version": "1.5.0",
          "state": {
            "_dom_classes": [],
            "_model_module": "@jupyter-widgets/controls",
            "_model_module_version": "1.5.0",
            "_model_name": "ButtonModel",
            "_view_count": null,
            "_view_module": "@jupyter-widgets/controls",
            "_view_module_version": "1.5.0",
            "_view_name": "ButtonView",
            "button_style": "",
            "description": "Calculate",
            "disabled": false,
            "icon": "check",
            "layout": "IPY_MODEL_d23d180d4ba14ec8996ee3877e77d2fa",
            "style": "IPY_MODEL_255b8fcfa17748fda672cb9117662026",
            "tooltip": "Calculate cosine similarity"
          }
        },
        "d23d180d4ba14ec8996ee3877e77d2fa": {
          "model_module": "@jupyter-widgets/base",
          "model_name": "LayoutModel",
          "model_module_version": "1.2.0",
          "state": {
            "_model_module": "@jupyter-widgets/base",
            "_model_module_version": "1.2.0",
            "_model_name": "LayoutModel",
            "_view_count": null,
            "_view_module": "@jupyter-widgets/base",
            "_view_module_version": "1.2.0",
            "_view_name": "LayoutView",
            "align_content": null,
            "align_items": null,
            "align_self": null,
            "border": null,
            "bottom": null,
            "display": null,
            "flex": null,
            "flex_flow": null,
            "grid_area": null,
            "grid_auto_columns": null,
            "grid_auto_flow": null,
            "grid_auto_rows": null,
            "grid_column": null,
            "grid_gap": null,
            "grid_row": null,
            "grid_template_areas": null,
            "grid_template_columns": null,
            "grid_template_rows": null,
            "height": null,
            "justify_content": null,
            "justify_items": null,
            "left": null,
            "margin": null,
            "max_height": null,
            "max_width": null,
            "min_height": null,
            "min_width": null,
            "object_fit": null,
            "object_position": null,
            "order": null,
            "overflow": null,
            "overflow_x": null,
            "overflow_y": null,
            "padding": null,
            "right": null,
            "top": null,
            "visibility": null,
            "width": null
          }
        },
        "255b8fcfa17748fda672cb9117662026": {
          "model_module": "@jupyter-widgets/controls",
          "model_name": "ButtonStyleModel",
          "model_module_version": "1.5.0",
          "state": {
            "_model_module": "@jupyter-widgets/controls",
            "_model_module_version": "1.5.0",
            "_model_name": "ButtonStyleModel",
            "_view_count": null,
            "_view_module": "@jupyter-widgets/base",
            "_view_module_version": "1.2.0",
            "_view_name": "StyleView",
            "button_color": null,
            "font_weight": ""
          }
        },
        "337106e906e844e3bcb6596f45c18a4e": {
          "model_module": "@jupyter-widgets/controls",
          "model_name": "DropdownModel",
          "model_module_version": "1.5.0",
          "state": {
            "_dom_classes": [],
            "_model_module": "@jupyter-widgets/controls",
            "_model_module_version": "1.5.0",
            "_model_name": "DropdownModel",
            "_options_labels": [
              "Eshan Ortiz",
              "Shelly Hutchinson",
              "Linda Wagstaff",
              "Mina Santos",
              "Saira Compton",
              "Kendal Rodriguez",
              "Calum Kumar",
              "Claire Blevins",
              "Huzaifa Mcleod",
              "Courtnie Dodd",
              "Amisha Cochran",
              "Ellesha Yu",
              "Iyla Stamp",
              "Giulia Wilkinson",
              "Anas Miles",
              "Jaime Beech",
              "Rosie Mccann",
              "Edith Rivas",
              "Jac Mcguire",
              "Drew Baker"
            ],
            "_view_count": null,
            "_view_module": "@jupyter-widgets/controls",
            "_view_module_version": "1.5.0",
            "_view_name": "DropdownView",
            "description": "",
            "description_tooltip": null,
            "disabled": false,
            "index": 8,
            "layout": "IPY_MODEL_b6c46ed82f5d475b8e5c15c6d0d68541",
            "style": "IPY_MODEL_801c2f86a2c74a3cadb5fae0fe52a755"
          }
        },
        "b6c46ed82f5d475b8e5c15c6d0d68541": {
          "model_module": "@jupyter-widgets/base",
          "model_name": "LayoutModel",
          "model_module_version": "1.2.0",
          "state": {
            "_model_module": "@jupyter-widgets/base",
            "_model_module_version": "1.2.0",
            "_model_name": "LayoutModel",
            "_view_count": null,
            "_view_module": "@jupyter-widgets/base",
            "_view_module_version": "1.2.0",
            "_view_name": "LayoutView",
            "align_content": null,
            "align_items": null,
            "align_self": null,
            "border": null,
            "bottom": null,
            "display": null,
            "flex": null,
            "flex_flow": null,
            "grid_area": null,
            "grid_auto_columns": null,
            "grid_auto_flow": null,
            "grid_auto_rows": null,
            "grid_column": null,
            "grid_gap": null,
            "grid_row": null,
            "grid_template_areas": null,
            "grid_template_columns": null,
            "grid_template_rows": null,
            "height": null,
            "justify_content": null,
            "justify_items": null,
            "left": null,
            "margin": null,
            "max_height": null,
            "max_width": null,
            "min_height": null,
            "min_width": null,
            "object_fit": null,
            "object_position": null,
            "order": null,
            "overflow": null,
            "overflow_x": null,
            "overflow_y": null,
            "padding": null,
            "right": null,
            "top": null,
            "visibility": null,
            "width": null
          }
        },
        "801c2f86a2c74a3cadb5fae0fe52a755": {
          "model_module": "@jupyter-widgets/controls",
          "model_name": "DescriptionStyleModel",
          "model_module_version": "1.5.0",
          "state": {
            "_model_module": "@jupyter-widgets/controls",
            "_model_module_version": "1.5.0",
            "_model_name": "DescriptionStyleModel",
            "_view_count": null,
            "_view_module": "@jupyter-widgets/base",
            "_view_module_version": "1.2.0",
            "_view_name": "StyleView",
            "description_width": ""
          }
        },
        "61cdfa6540b249beb948011bd8b49e7b": {
          "model_module": "@jupyter-widgets/controls",
          "model_name": "ButtonModel",
          "model_module_version": "1.5.0",
          "state": {
            "_dom_classes": [],
            "_model_module": "@jupyter-widgets/controls",
            "_model_module_version": "1.5.0",
            "_model_name": "ButtonModel",
            "_view_count": null,
            "_view_module": "@jupyter-widgets/controls",
            "_view_module_version": "1.5.0",
            "_view_name": "ButtonView",
            "button_style": "",
            "description": "Calculate",
            "disabled": false,
            "icon": "check",
            "layout": "IPY_MODEL_173c007f5dc542fcb2bbade8750b6220",
            "style": "IPY_MODEL_eb1dc45f54bc4708bcbb1c0ee863ba58",
            "tooltip": "Calculate cosine similarity"
          }
        },
        "173c007f5dc542fcb2bbade8750b6220": {
          "model_module": "@jupyter-widgets/base",
          "model_name": "LayoutModel",
          "model_module_version": "1.2.0",
          "state": {
            "_model_module": "@jupyter-widgets/base",
            "_model_module_version": "1.2.0",
            "_model_name": "LayoutModel",
            "_view_count": null,
            "_view_module": "@jupyter-widgets/base",
            "_view_module_version": "1.2.0",
            "_view_name": "LayoutView",
            "align_content": null,
            "align_items": null,
            "align_self": null,
            "border": null,
            "bottom": null,
            "display": null,
            "flex": null,
            "flex_flow": null,
            "grid_area": null,
            "grid_auto_columns": null,
            "grid_auto_flow": null,
            "grid_auto_rows": null,
            "grid_column": null,
            "grid_gap": null,
            "grid_row": null,
            "grid_template_areas": null,
            "grid_template_columns": null,
            "grid_template_rows": null,
            "height": null,
            "justify_content": null,
            "justify_items": null,
            "left": null,
            "margin": null,
            "max_height": null,
            "max_width": null,
            "min_height": null,
            "min_width": null,
            "object_fit": null,
            "object_position": null,
            "order": null,
            "overflow": null,
            "overflow_x": null,
            "overflow_y": null,
            "padding": null,
            "right": null,
            "top": null,
            "visibility": null,
            "width": null
          }
        },
        "eb1dc45f54bc4708bcbb1c0ee863ba58": {
          "model_module": "@jupyter-widgets/controls",
          "model_name": "ButtonStyleModel",
          "model_module_version": "1.5.0",
          "state": {
            "_model_module": "@jupyter-widgets/controls",
            "_model_module_version": "1.5.0",
            "_model_name": "ButtonStyleModel",
            "_view_count": null,
            "_view_module": "@jupyter-widgets/base",
            "_view_module_version": "1.2.0",
            "_view_name": "StyleView",
            "button_color": null,
            "font_weight": ""
          }
        }
      }
    }
  },
  "cells": [
    {
      "cell_type": "markdown",
      "source": [
        "# **Sprint 2 IST**\n",
        "<p> Juan Pablo Sanin A00296776 <p>"
      ],
      "metadata": {
        "id": "-2AK_tfNGFTD"
      }
    },
    {
      "cell_type": "markdown",
      "source": [
        "## **Program development**"
      ],
      "metadata": {
        "id": "WjOZL2KuMIO3"
      }
    },
    {
      "cell_type": "code",
      "execution_count": 58,
      "metadata": {
        "id": "nWzeQ1_FF56e"
      },
      "outputs": [],
      "source": [
        "#imports\n",
        "import pandas as pd\n",
        "import numpy as np\n",
        "import seaborn as sns\n",
        "import matplotlib.pyplot as plt\n",
        "from numpy import dot\n",
        "from numpy.linalg import norm\n",
        "import ipywidgets as widgets\n",
        "from IPython.display import display"
      ]
    },
    {
      "cell_type": "code",
      "source": [
        "#load database downloaded from https://drive.google.com/file/d/1AX4T6qPA1yKQ8KmY7yuUDuLD908w9VjK/view?usp=sharing\n",
        "path='sprint2.csv'\n",
        "df = pd.read_csv(r''+path+'')\n",
        "#set index as name to be able to select rows\n",
        "df.set_index(\"Name\", inplace = True)\n",
        "print(type(df))\n",
        "df.head()\n"
      ],
      "metadata": {
        "colab": {
          "base_uri": "https://localhost:8080/",
          "height": 255
        },
        "id": "WiWhuPEYH6x8",
        "outputId": "bcc78db4-1d1b-42f6-86d2-77c864668d27"
      },
      "execution_count": 4,
      "outputs": [
        {
          "output_type": "stream",
          "name": "stdout",
          "text": [
            "<class 'pandas.core.frame.DataFrame'>\n"
          ]
        },
        {
          "output_type": "execute_result",
          "data": {
            "text/plain": [
              "                   Likes NFL  Likes Beer  Plays Golf  Likes to Gamble  \\\n",
              "Name                                                                    \n",
              "Eshan Ortiz              0.2         0.7         0.2              0.7   \n",
              "Shelly Hutchinson        0.6         0.4         0.5              0.2   \n",
              "Linda Wagstaff           0.4         0.4         0.8              0.1   \n",
              "Mina Santos              0.8         0.8         0.1              0.8   \n",
              "Saira Compton            0.1         0.9         0.5              0.2   \n",
              "\n",
              "                   Likes Chicken Wings  \n",
              "Name                                    \n",
              "Eshan Ortiz                        0.4  \n",
              "Shelly Hutchinson                  0.1  \n",
              "Linda Wagstaff                     0.1  \n",
              "Mina Santos                        0.1  \n",
              "Saira Compton                      0.7  "
            ],
            "text/html": [
              "\n",
              "  <div id=\"df-e97d5ac3-6737-49e0-8833-477f37d6740f\">\n",
              "    <div class=\"colab-df-container\">\n",
              "      <div>\n",
              "<style scoped>\n",
              "    .dataframe tbody tr th:only-of-type {\n",
              "        vertical-align: middle;\n",
              "    }\n",
              "\n",
              "    .dataframe tbody tr th {\n",
              "        vertical-align: top;\n",
              "    }\n",
              "\n",
              "    .dataframe thead th {\n",
              "        text-align: right;\n",
              "    }\n",
              "</style>\n",
              "<table border=\"1\" class=\"dataframe\">\n",
              "  <thead>\n",
              "    <tr style=\"text-align: right;\">\n",
              "      <th></th>\n",
              "      <th>Likes NFL</th>\n",
              "      <th>Likes Beer</th>\n",
              "      <th>Plays Golf</th>\n",
              "      <th>Likes to Gamble</th>\n",
              "      <th>Likes Chicken Wings</th>\n",
              "    </tr>\n",
              "    <tr>\n",
              "      <th>Name</th>\n",
              "      <th></th>\n",
              "      <th></th>\n",
              "      <th></th>\n",
              "      <th></th>\n",
              "      <th></th>\n",
              "    </tr>\n",
              "  </thead>\n",
              "  <tbody>\n",
              "    <tr>\n",
              "      <th>Eshan Ortiz</th>\n",
              "      <td>0.2</td>\n",
              "      <td>0.7</td>\n",
              "      <td>0.2</td>\n",
              "      <td>0.7</td>\n",
              "      <td>0.4</td>\n",
              "    </tr>\n",
              "    <tr>\n",
              "      <th>Shelly Hutchinson</th>\n",
              "      <td>0.6</td>\n",
              "      <td>0.4</td>\n",
              "      <td>0.5</td>\n",
              "      <td>0.2</td>\n",
              "      <td>0.1</td>\n",
              "    </tr>\n",
              "    <tr>\n",
              "      <th>Linda Wagstaff</th>\n",
              "      <td>0.4</td>\n",
              "      <td>0.4</td>\n",
              "      <td>0.8</td>\n",
              "      <td>0.1</td>\n",
              "      <td>0.1</td>\n",
              "    </tr>\n",
              "    <tr>\n",
              "      <th>Mina Santos</th>\n",
              "      <td>0.8</td>\n",
              "      <td>0.8</td>\n",
              "      <td>0.1</td>\n",
              "      <td>0.8</td>\n",
              "      <td>0.1</td>\n",
              "    </tr>\n",
              "    <tr>\n",
              "      <th>Saira Compton</th>\n",
              "      <td>0.1</td>\n",
              "      <td>0.9</td>\n",
              "      <td>0.5</td>\n",
              "      <td>0.2</td>\n",
              "      <td>0.7</td>\n",
              "    </tr>\n",
              "  </tbody>\n",
              "</table>\n",
              "</div>\n",
              "      <button class=\"colab-df-convert\" onclick=\"convertToInteractive('df-e97d5ac3-6737-49e0-8833-477f37d6740f')\"\n",
              "              title=\"Convert this dataframe to an interactive table.\"\n",
              "              style=\"display:none;\">\n",
              "        \n",
              "  <svg xmlns=\"http://www.w3.org/2000/svg\" height=\"24px\"viewBox=\"0 0 24 24\"\n",
              "       width=\"24px\">\n",
              "    <path d=\"M0 0h24v24H0V0z\" fill=\"none\"/>\n",
              "    <path d=\"M18.56 5.44l.94 2.06.94-2.06 2.06-.94-2.06-.94-.94-2.06-.94 2.06-2.06.94zm-11 1L8.5 8.5l.94-2.06 2.06-.94-2.06-.94L8.5 2.5l-.94 2.06-2.06.94zm10 10l.94 2.06.94-2.06 2.06-.94-2.06-.94-.94-2.06-.94 2.06-2.06.94z\"/><path d=\"M17.41 7.96l-1.37-1.37c-.4-.4-.92-.59-1.43-.59-.52 0-1.04.2-1.43.59L10.3 9.45l-7.72 7.72c-.78.78-.78 2.05 0 2.83L4 21.41c.39.39.9.59 1.41.59.51 0 1.02-.2 1.41-.59l7.78-7.78 2.81-2.81c.8-.78.8-2.07 0-2.86zM5.41 20L4 18.59l7.72-7.72 1.47 1.35L5.41 20z\"/>\n",
              "  </svg>\n",
              "      </button>\n",
              "      \n",
              "  <style>\n",
              "    .colab-df-container {\n",
              "      display:flex;\n",
              "      flex-wrap:wrap;\n",
              "      gap: 12px;\n",
              "    }\n",
              "\n",
              "    .colab-df-convert {\n",
              "      background-color: #E8F0FE;\n",
              "      border: none;\n",
              "      border-radius: 50%;\n",
              "      cursor: pointer;\n",
              "      display: none;\n",
              "      fill: #1967D2;\n",
              "      height: 32px;\n",
              "      padding: 0 0 0 0;\n",
              "      width: 32px;\n",
              "    }\n",
              "\n",
              "    .colab-df-convert:hover {\n",
              "      background-color: #E2EBFA;\n",
              "      box-shadow: 0px 1px 2px rgba(60, 64, 67, 0.3), 0px 1px 3px 1px rgba(60, 64, 67, 0.15);\n",
              "      fill: #174EA6;\n",
              "    }\n",
              "\n",
              "    [theme=dark] .colab-df-convert {\n",
              "      background-color: #3B4455;\n",
              "      fill: #D2E3FC;\n",
              "    }\n",
              "\n",
              "    [theme=dark] .colab-df-convert:hover {\n",
              "      background-color: #434B5C;\n",
              "      box-shadow: 0px 1px 3px 1px rgba(0, 0, 0, 0.15);\n",
              "      filter: drop-shadow(0px 1px 2px rgba(0, 0, 0, 0.3));\n",
              "      fill: #FFFFFF;\n",
              "    }\n",
              "  </style>\n",
              "\n",
              "      <script>\n",
              "        const buttonEl =\n",
              "          document.querySelector('#df-e97d5ac3-6737-49e0-8833-477f37d6740f button.colab-df-convert');\n",
              "        buttonEl.style.display =\n",
              "          google.colab.kernel.accessAllowed ? 'block' : 'none';\n",
              "\n",
              "        async function convertToInteractive(key) {\n",
              "          const element = document.querySelector('#df-e97d5ac3-6737-49e0-8833-477f37d6740f');\n",
              "          const dataTable =\n",
              "            await google.colab.kernel.invokeFunction('convertToInteractive',\n",
              "                                                     [key], {});\n",
              "          if (!dataTable) return;\n",
              "\n",
              "          const docLinkHtml = 'Like what you see? Visit the ' +\n",
              "            '<a target=\"_blank\" href=https://colab.research.google.com/notebooks/data_table.ipynb>data table notebook</a>'\n",
              "            + ' to learn more about interactive tables.';\n",
              "          element.innerHTML = '';\n",
              "          dataTable['output_type'] = 'display_data';\n",
              "          await google.colab.output.renderOutput(dataTable, element);\n",
              "          const docLink = document.createElement('div');\n",
              "          docLink.innerHTML = docLinkHtml;\n",
              "          element.appendChild(docLink);\n",
              "        }\n",
              "      </script>\n",
              "    </div>\n",
              "  </div>\n",
              "  "
            ]
          },
          "metadata": {},
          "execution_count": 4
        }
      ]
    },
    {
      "cell_type": "code",
      "source": [
        "# dropdowns\n",
        "dropdown1 = widgets.Dropdown(\n",
        "    options=df.index,\n",
        "    value=df.index[0],\n",
        "    description='',\n",
        ")\n",
        "\n",
        "dropdown2 = widgets.Dropdown(\n",
        "    options=df.index,\n",
        "    value=df.index[1],\n",
        "    description='',\n",
        ")\n",
        "\n",
        "dropdown3 = widgets.Dropdown(\n",
        "    options=df.index,\n",
        "    value=df.index[1],\n",
        "    description='',\n",
        ")\n",
        "\n"
      ],
      "metadata": {
        "id": "bBlwCpqQHtJK"
      },
      "execution_count": 5,
      "outputs": []
    },
    {
      "cell_type": "code",
      "source": [
        "# creating button\n",
        "btn = widgets.Button(\n",
        "    description='Calculate',\n",
        "    disabled=False,\n",
        "    button_style='',\n",
        "    tooltip='Calculate cosine similarity',\n",
        "    icon='check' \n",
        ")\n",
        "\n",
        "def cosine_sim(person1, person2):\n",
        "    #print(df.loc[person1].values)\n",
        "    #print(df.loc[person2].values)\n",
        "    p1=df.loc[person1].values\n",
        "    p2=df.loc[person2].values\n",
        "\n",
        "    #Calculate cosine similarity here\n",
        "    cos_sim = dot(p1, p2)/(norm(p1)*norm(p2))\n",
        "    print(\"\\n The cosine similarity between %s and %s is: %f\" %(person1,person2, cos_sim))\n",
        "\n",
        "@btn.on_click\n",
        "\n",
        "def cosine_sim_onclick(a):\n",
        "    cosine_sim(dropdown1.value, dropdown2.value)\n"
      ],
      "metadata": {
        "id": "aRikHuuvHRw0"
      },
      "execution_count": 6,
      "outputs": []
    },
    {
      "cell_type": "code",
      "source": [
        "#creating button 2\n",
        "btn2 = widgets.Button(\n",
        "    description='Calculate',\n",
        "    disabled=False,\n",
        "    button_style='',\n",
        "    tooltip='Calculate cosine similarity',\n",
        "    icon='check' \n",
        ")\n",
        "\n",
        "def cosine_sim_all(person1):\n",
        "    #print(df.loc[person1].values)\n",
        "    #print(df.loc[person2].values)\n",
        "    p1=df.loc[person1].values\n",
        "    names = df.index.values\n",
        "    cosine_sims= np.empty(0)\n",
        "    for person in range(len(names)):\n",
        "      p2=df.loc[names[person]]\n",
        "      cos_sim_all = dot(p1, p2)/(norm(p1)*norm(p2))\n",
        "      cosine_sims= np.insert(cosine_sims, len(cosine_sims),[cos_sim_all])\n",
        "\n",
        "    #Gráfico\n",
        "    fig, ax = plt.subplots()\n",
        "    fig.set_figheight(25)\n",
        "    fig.set_figwidth(25)\n",
        "    ax.scatter(cosine_sims, cosine_sims)\n",
        "\n",
        "    for i, txt in enumerate(names):\n",
        "      ax.annotate(txt, (cosine_sims[i], cosine_sims[i]))\n",
        "\n",
        "@btn2.on_click\n",
        "\n",
        "def cosine_sim_onclick(a):\n",
        "    cosine_sim_all(dropdown3.value)"
      ],
      "metadata": {
        "id": "4Bws5uyvwGcy"
      },
      "execution_count": 70,
      "outputs": []
    },
    {
      "cell_type": "markdown",
      "source": [
        "## **Cosine Similarity Calculator Between 2 People**"
      ],
      "metadata": {
        "id": "qgmdvntGL3JH"
      }
    },
    {
      "cell_type": "code",
      "source": [
        "print(\"Please select first person:\")\n",
        "dropdown1"
      ],
      "metadata": {
        "colab": {
          "base_uri": "https://localhost:8080/",
          "height": 66,
          "referenced_widgets": [
            "338ba50f36354a94b7249775f2173579",
            "e29a8c66947645f6b78039b3200f997a",
            "356d14f5d5974a92becc2113e6377241"
          ]
        },
        "id": "iCUqzpNIHS6y",
        "outputId": "9dc52294-a662-41ec-9400-45707bf99b97"
      },
      "execution_count": 7,
      "outputs": [
        {
          "output_type": "stream",
          "name": "stdout",
          "text": [
            "Please select first person:\n"
          ]
        },
        {
          "output_type": "display_data",
          "data": {
            "text/plain": [
              "Dropdown(options=('Eshan Ortiz', 'Shelly Hutchinson', 'Linda Wagstaff', 'Mina Santos', 'Saira Compton', 'Kenda…"
            ],
            "application/vnd.jupyter.widget-view+json": {
              "version_major": 2,
              "version_minor": 0,
              "model_id": "338ba50f36354a94b7249775f2173579"
            }
          },
          "metadata": {}
        }
      ]
    },
    {
      "cell_type": "code",
      "source": [
        "print(\"Please select second person:\")\n",
        "dropdown2"
      ],
      "metadata": {
        "colab": {
          "base_uri": "https://localhost:8080/",
          "height": 66,
          "referenced_widgets": [
            "9406b2ace5314d108286031328bc2028",
            "47959aad086f444eac0791c3616f69c0",
            "38bf58be65c04a8a83146de7061f280f"
          ]
        },
        "id": "2dkQgX69K8ls",
        "outputId": "203d25d6-eae2-4300-da9f-a0b984a0acc8"
      },
      "execution_count": 8,
      "outputs": [
        {
          "output_type": "stream",
          "name": "stdout",
          "text": [
            "Please select second person:\n"
          ]
        },
        {
          "output_type": "display_data",
          "data": {
            "text/plain": [
              "Dropdown(index=1, options=('Eshan Ortiz', 'Shelly Hutchinson', 'Linda Wagstaff', 'Mina Santos', 'Saira Compton…"
            ],
            "application/vnd.jupyter.widget-view+json": {
              "version_major": 2,
              "version_minor": 0,
              "model_id": "9406b2ace5314d108286031328bc2028"
            }
          },
          "metadata": {}
        }
      ]
    },
    {
      "cell_type": "code",
      "source": [
        "print(\"Press button to calculate cosine similarity: \\n\")\n",
        "btn"
      ],
      "metadata": {
        "colab": {
          "base_uri": "https://localhost:8080/",
          "height": 84,
          "referenced_widgets": [
            "6a89d449b9ce47cc86b4a6741291cbd3",
            "d23d180d4ba14ec8996ee3877e77d2fa",
            "255b8fcfa17748fda672cb9117662026"
          ]
        },
        "id": "_-D1NfCRLu_3",
        "outputId": "38f4997c-3bb5-473a-da2c-9b70537a0e69"
      },
      "execution_count": 9,
      "outputs": [
        {
          "output_type": "stream",
          "name": "stdout",
          "text": [
            "Press button to calculate cosine similarity: \n",
            "\n"
          ]
        },
        {
          "output_type": "display_data",
          "data": {
            "text/plain": [
              "Button(description='Calculate', icon='check', style=ButtonStyle(), tooltip='Calculate cosine similarity')"
            ],
            "application/vnd.jupyter.widget-view+json": {
              "version_major": 2,
              "version_minor": 0,
              "model_id": "6a89d449b9ce47cc86b4a6741291cbd3"
            }
          },
          "metadata": {}
        }
      ]
    },
    {
      "cell_type": "markdown",
      "source": [
        "## **Cosine Similarity Between 1 Person and The Rest**"
      ],
      "metadata": {
        "id": "KGIhcV2bvJeO"
      }
    },
    {
      "cell_type": "code",
      "source": [
        "dropdown3"
      ],
      "metadata": {
        "colab": {
          "base_uri": "https://localhost:8080/",
          "height": 49,
          "referenced_widgets": [
            "337106e906e844e3bcb6596f45c18a4e",
            "b6c46ed82f5d475b8e5c15c6d0d68541",
            "801c2f86a2c74a3cadb5fae0fe52a755"
          ]
        },
        "id": "qlC6UehLvfVj",
        "outputId": "921253e5-7ab0-4e75-b2a6-e96496e3fab8"
      },
      "execution_count": 18,
      "outputs": [
        {
          "output_type": "display_data",
          "data": {
            "text/plain": [
              "Dropdown(index=1, options=('Eshan Ortiz', 'Shelly Hutchinson', 'Linda Wagstaff', 'Mina Santos', 'Saira Compton…"
            ],
            "application/vnd.jupyter.widget-view+json": {
              "version_major": 2,
              "version_minor": 0,
              "model_id": "337106e906e844e3bcb6596f45c18a4e"
            }
          },
          "metadata": {}
        }
      ]
    },
    {
      "cell_type": "code",
      "source": [
        "btn2"
      ],
      "metadata": {
        "colab": {
          "base_uri": "https://localhost:8080/",
          "height": 1000,
          "referenced_widgets": [
            "61cdfa6540b249beb948011bd8b49e7b",
            "173c007f5dc542fcb2bbade8750b6220",
            "eb1dc45f54bc4708bcbb1c0ee863ba58"
          ]
        },
        "id": "3JIayUNwwZKg",
        "outputId": "6f157737-3255-4133-fea9-395118028e90"
      },
      "execution_count": 71,
      "outputs": [
        {
          "output_type": "display_data",
          "data": {
            "text/plain": [
              "Button(description='Calculate', icon='check', style=ButtonStyle(), tooltip='Calculate cosine similarity')"
            ],
            "application/vnd.jupyter.widget-view+json": {
              "version_major": 2,
              "version_minor": 0,
              "model_id": "61cdfa6540b249beb948011bd8b49e7b"
            }
          },
          "metadata": {}
        },
        {
          "output_type": "display_data",
          "data": {
            "text/plain": [
              "<Figure size 1800x1800 with 1 Axes>"
            ],
            "image/png": "[encoded data removed]"
          },
          "metadata": {
            "needs_background": "light"
          }
        }
      ]
    }
  ]
}